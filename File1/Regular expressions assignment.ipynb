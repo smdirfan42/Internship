{
 "cells": [
  {
   "cell_type": "code",
   "execution_count": 2,
   "id": "8393549e",
   "metadata": {},
   "outputs": [],
   "source": [
    "import pandas as pd\n",
    "import numpy as np\n",
    "import re\n",
    "import warnings\n",
    "warnings.filterwarnings('ignore')"
   ]
  },
  {
   "cell_type": "code",
   "execution_count": 4,
   "id": "9a5d345c",
   "metadata": {},
   "outputs": [
    {
     "name": "stdout",
     "output_type": "stream",
     "text": [
      "Python:Exercises::PHP:exercises:\n"
     ]
    }
   ],
   "source": [
    "# Q1. Write a Python program to replace all occurrences of a space, comma, or dot with a colon.\n",
    "\n",
    "target_string = 'Python Exercises, PHP exercises.'\n",
    "result = re.sub(r\"[,.,\\s]\", \":\", target_string)\n",
    "print(result)"
   ]
  },
  {
   "cell_type": "code",
   "execution_count": 15,
   "id": "ac26831d",
   "metadata": {},
   "outputs": [
    {
     "data": {
      "text/html": [
       "<div>\n",
       "<style scoped>\n",
       "    .dataframe tbody tr th:only-of-type {\n",
       "        vertical-align: middle;\n",
       "    }\n",
       "\n",
       "    .dataframe tbody tr th {\n",
       "        vertical-align: top;\n",
       "    }\n",
       "\n",
       "    .dataframe thead th {\n",
       "        text-align: right;\n",
       "    }\n",
       "</style>\n",
       "<table border=\"1\" class=\"dataframe\">\n",
       "  <thead>\n",
       "    <tr style=\"text-align: right;\">\n",
       "      <th></th>\n",
       "      <th>SUMMARY</th>\n",
       "    </tr>\n",
       "  </thead>\n",
       "  <tbody>\n",
       "    <tr>\n",
       "      <th>0</th>\n",
       "      <td>hello, world!</td>\n",
       "    </tr>\n",
       "    <tr>\n",
       "      <th>1</th>\n",
       "      <td>XXXXX test</td>\n",
       "    </tr>\n",
       "    <tr>\n",
       "      <th>2</th>\n",
       "      <td>123four, five:; six...</td>\n",
       "    </tr>\n",
       "  </tbody>\n",
       "</table>\n",
       "</div>"
      ],
      "text/plain": [
       "                  SUMMARY\n",
       "0           hello, world!\n",
       "1              XXXXX test\n",
       "2  123four, five:; six..."
      ]
     },
     "execution_count": 15,
     "metadata": {},
     "output_type": "execute_result"
    }
   ],
   "source": [
    "# Question 2 \n",
    "Dict = {'SUMMARY' : ['hello, world!', 'XXXXX test', '123four, five:; six...']}\n",
    "df = pd.DataFrame(Dict)\n",
    "df"
   ]
  },
  {
   "cell_type": "code",
   "execution_count": 14,
   "id": "d24f1c5e",
   "metadata": {},
   "outputs": [
    {
     "name": "stdout",
     "output_type": "stream",
     "text": [
      "            SUMMARY\n",
      "0       hello world\n",
      "1              test\n",
      "2  123four five six\n"
     ]
    }
   ],
   "source": [
    "# Q2. Create a dataframe using the dictionary below and remove everything (commas (,), !, XXXX, ;, etc.) from the columns except words.\n",
    "#Dictionary-{'SUMMARY' : ['hello, world!', 'XXXXX test', '123four, five:; six...']}\n",
    "\n",
    "df['SUMMARY'] = df['SUMMARY'].apply(lambda d: ' '.join(text for text in re.findall(r\"\\b\\w+\\b\", re.sub(r\"[,!;:]+\", '', d)) if text != 'XXXXX'))\n",
    "print(df)                                                                                                       "
   ]
  },
  {
   "cell_type": "code",
   "execution_count": 17,
   "id": "ee5cb294",
   "metadata": {},
   "outputs": [],
   "source": [
    "# Q3. Create a function inpython to find all words that are at least 4 characters long in a string.The use of the re.compile() method is mandatory.\n",
    "\n",
    "target_string = \"Data science is the study of data to extract meaningful insights for business.\"\n",
    "string_pattern = r\"\\w{4,}\"\n",
    "regex_pattern = re.compile(string_pattern)\n",
    "resultant_string = regex_pattern.findall(target_string)"
   ]
  },
  {
   "cell_type": "code",
   "execution_count": 18,
   "id": "38c4682e",
   "metadata": {},
   "outputs": [
    {
     "name": "stdout",
     "output_type": "stream",
     "text": [
      "['Data', 'science', 'multidisciplinary', 'approch', 'that', 'combines', 'principles', 'practices', 'from', 'fields', 'math', 'stats', 'computer', 'engineering', 'analyze', 'large', 'amounts', 'data']\n"
     ]
    }
   ],
   "source": [
    "# Q3.ata \n",
    "string_1 = \"Dscience is multidisciplinary approch that combines principles and practices from the fields of math, stats, AI, computer engineering to analyze large amounts of data.\"\n",
    "result = regex_pattern.findall(string_1)\n",
    "print(result)"
   ]
  },
  {
   "cell_type": "code",
   "execution_count": 27,
   "id": "4a59ee09",
   "metadata": {},
   "outputs": [],
   "source": [
    "# Q4. Create a function in python to find all three, four, and five character words in a string. The use of the re.compile() method is mandatory.\n",
    "\n",
    "target_string = \"Data science is the study of data to extract meaningful insights for business.\"\n",
    "string_pattern = r\"\\w{3,5}\"\n",
    "regex_pattern = re.compile(string_pattern)\n",
    "result_string = regex_pattern.findall(target_string)"
   ]
  },
  {
   "cell_type": "code",
   "execution_count": 28,
   "id": "a06602ca",
   "metadata": {},
   "outputs": [
    {
     "name": "stdout",
     "output_type": "stream",
     "text": [
      "['Data', 'scien', 'multi', 'disci', 'plina', 'appro', 'that', 'combi', 'nes', 'princ', 'iples', 'and', 'pract', 'ices', 'from', 'the', 'field', 'math', 'stats', 'compu', 'ter', 'engin', 'eerin', 'analy', 'large', 'amoun', 'data']\n"
     ]
    }
   ],
   "source": [
    "# Q4. \n",
    "\n",
    "string_2 = \"Data science is multidisciplinary approch that combines principles and practices from the fields of math, stats, AI, computer engineering to analyze large amounts of data.\"\n",
    "result_1 = regex_pattern.findall(string_2)\n",
    "print(result_1)"
   ]
  },
  {
   "cell_type": "code",
   "execution_count": 29,
   "id": "a7b63f1d",
   "metadata": {},
   "outputs": [
    {
     "name": "stdout",
     "output_type": "stream",
     "text": [
      "example .com\n",
      "hr@fliprobo .com\n",
      "github .com\n",
      "Hello Data Science World\n",
      "Data Scientist\n"
     ]
    }
   ],
   "source": [
    "# Q5.Create a function in Python to remove the parenthesis in a list of strings.The use of the re.compile() method is mandatory.\n",
    "# Sample Text:[\"example (.com)\", \"hr@fliprobo (.com)\", \"github (.com)\", \"Hello (Data Science World)\", \"Data (Scientist)\"]\n",
    "\n",
    "sample_text = [\"example (.com)\", \"hr@fliprobo (.com)\", \"github (.com)\", \"Hello (Data Science World)\", \"Data (Scientist)\"]\n",
    "pattern = re.compile(r'\\(([^)]*)\\)')\n",
    "output_text = [pattern.sub(r'\\1', words) for words in sample_text]\n",
    "for item in output_text:\n",
    "    print(item)"
   ]
  },
  {
   "cell_type": "code",
   "execution_count": 30,
   "id": "a77f8666",
   "metadata": {},
   "outputs": [
    {
     "name": "stdout",
     "output_type": "stream",
     "text": [
      "example \n",
      "hr@fliprobo \n",
      "github \n",
      "Hello \n",
      "Data \n"
     ]
    }
   ],
   "source": [
    "# Q6. Write a python program to remove the parenthesis area from the text stored in the text file using Regular Expression.\n",
    "# Sample Text:[\"example (.com)\", \"hr@fliprobo (.com)\", \"github (.com)\", \"Hello (Data Science World)\", \"Data (Scientist)\"]\n",
    "\n",
    "sample_text = [\"example (.com)\", \"hr@fliprobo (.com)\", \"github (.com)\", \"Hello (Data Science World)\", \"Data (Scientist)\"]\n",
    "pattern = re.compile(r'\\([^)]*\\)')\n",
    "output_text = [pattern.sub('',words) for words in sample_text]\n",
    "for item in output_text:\n",
    "    print(item)"
   ]
  },
  {
   "cell_type": "code",
   "execution_count": 31,
   "id": "db22c147",
   "metadata": {},
   "outputs": [
    {
     "name": "stdout",
     "output_type": "stream",
     "text": [
      "['Importance', 'Of', 'Regular', 'Expressions', 'In', 'Python']\n"
     ]
    }
   ],
   "source": [
    "# Q7. Write a regular expression in Python to split a string into uppercase letters.\n",
    "# Sample text: “ImportanceOfRegularExpressionsInPython”\n",
    "\n",
    "sample_text = \"ImportanceOfRegularExpressionsInPython\"\n",
    "result_1 = re.findall('[a-z]+|[A-Z][a-z]*', sample_text)\n",
    "print(result_1)"
   ]
  },
  {
   "cell_type": "code",
   "execution_count": 32,
   "id": "8bf02d21",
   "metadata": {},
   "outputs": [
    {
     "name": "stdout",
     "output_type": "stream",
     "text": [
      "RegularExpression 1IsAn 2ImportantTopic 3InPython\n"
     ]
    }
   ],
   "source": [
    "# Q8. Create a function in python to insert spaces between words starting with numbers.\n",
    "# Sample Text: “RegularExpression1IsAn2ImportantTopic3InPython\"\n",
    "\n",
    "sample_text = \"RegularExpression1IsAn2ImportantTopic3InPython\"\n",
    "pattern_text = re.compile(r\"(?<=\\D)(\\d+)\")\n",
    "result_text = re.sub(pattern_text, r\" \\1\", sample_text)\n",
    "print(result_text)"
   ]
  },
  {
   "cell_type": "code",
   "execution_count": 33,
   "id": "26b4c4d5",
   "metadata": {},
   "outputs": [
    {
     "name": "stdout",
     "output_type": "stream",
     "text": [
      " Regular Expression 1 Is An 2 Important Topic 3 In Python\n"
     ]
    }
   ],
   "source": [
    "# Q9. Create a function in python to insert spaces between words starting with capital letters or with numbers.\n",
    "# Sample Text: “RegularExpression1IsAn2ImportantTopic3InPython\"\n",
    "\n",
    "target_string = \"RegularExpression1IsAn2ImportantTopic3InPython\"\n",
    "pattern_text = re.compile(r\"([A-Z0-9])\")\n",
    "result_string = re.sub(pattern_text,r' \\1', target_string)\n",
    "print(result_string)"
   ]
  },
  {
   "cell_type": "code",
   "execution_count": 35,
   "id": "0a77d49d",
   "metadata": {},
   "outputs": [],
   "source": [
    "# Q10. Use the github link below to read the data and create a dataframe. After creating the dataframe extract the first 6 letters of each country and store in the dataframe under a new column called first_five_letters.\n",
    "\n",
    "text_link = \"https://raw.githubusercontent.com/dsrscientist/DSData/master/happiness_score_dataset.csv\"\n",
    "df = pd.read_csv(text_link)"
   ]
  },
  {
   "cell_type": "code",
   "execution_count": 36,
   "id": "1b45d976",
   "metadata": {},
   "outputs": [
    {
     "name": "stdout",
     "output_type": "stream",
     "text": [
      "       Country          Region  Happiness Rank  Happiness Score  \\\n",
      "0  Switzerland  Western Europe               1            7.587   \n",
      "1      Iceland  Western Europe               2            7.561   \n",
      "2      Denmark  Western Europe               3            7.527   \n",
      "3       Norway  Western Europe               4            7.522   \n",
      "4       Canada   North America               5            7.427   \n",
      "\n",
      "   Standard Error  Economy (GDP per Capita)   Family  \\\n",
      "0         0.03411                   1.39651  1.34951   \n",
      "1         0.04884                   1.30232  1.40223   \n",
      "2         0.03328                   1.32548  1.36058   \n",
      "3         0.03880                   1.45900  1.33095   \n",
      "4         0.03553                   1.32629  1.32261   \n",
      "\n",
      "   Health (Life Expectancy)  Freedom  Trust (Government Corruption)  \\\n",
      "0                   0.94143  0.66557                        0.41978   \n",
      "1                   0.94784  0.62877                        0.14145   \n",
      "2                   0.87464  0.64938                        0.48357   \n",
      "3                   0.88521  0.66973                        0.36503   \n",
      "4                   0.90563  0.63297                        0.32957   \n",
      "\n",
      "   Generosity  Dystopia Residual first_five_letters  \n",
      "0     0.29678            2.51738             Switze  \n",
      "1     0.43630            2.70201             Icelan  \n",
      "2     0.34139            2.49204             Denmar  \n",
      "3     0.34699            2.46531             Norway  \n",
      "4     0.45811            2.45176             Canada  \n"
     ]
    }
   ],
   "source": [
    "df['first_five_letters'] = df['Country'].str[:6]\n",
    "print(df.head())"
   ]
  },
  {
   "cell_type": "code",
   "execution_count": 37,
   "id": "14c6a079",
   "metadata": {},
   "outputs": [
    {
     "name": "stdout",
     "output_type": "stream",
     "text": [
      "['Data', 'science', 'is', 'the', 'study', 'to', 'extract', 'meaningful', 'insights', 'for', 'business_', 'Best', 'jobs', 'can', 'pay', 'up', 'to', '322', '500', 'per', 'year']\n",
      "['Python', 'is', 'a', 'popular', 'programming', 'language', 'It', 'is', 'used', 'for', 'developing', 'websites', 'and', 'software', 'data', 'analysis', 'etc_']\n"
     ]
    }
   ],
   "source": [
    "# Q11. - Write a Python program to match a string that contains only upper and lowercase letters, numbers, and underscores.\n",
    "\n",
    "string_3 = \"Data science is the study to extract meaningful insights for business_.  Best jobs can pay up to $322,500 per year.\"\n",
    "string_4 = \"Python is a popular programming language. It is used for developing websites and software, data analysis etc_.\"\n",
    "pattern = r\"[a-zA-Z0-9_]+\"\n",
    "print(re.findall(pattern, string_3))\n",
    "print(re.findall(pattern, string_4))"
   ]
  },
  {
   "cell_type": "code",
   "execution_count": 38,
   "id": "b37ddc1c",
   "metadata": {},
   "outputs": [
    {
     "name": "stdout",
     "output_type": "stream",
     "text": [
      "<re.Match object; span=(0, 3), match='123'>\n"
     ]
    }
   ],
   "source": [
    "# Q12. Write a Python program where a string will start with a specific number. \n",
    "\n",
    "test_str1 = \"123_Datascience\"\n",
    "pattern = r\"^\\d+\"\n",
    "result = re.match(pattern, test_str1)\n",
    "print(result)"
   ]
  },
  {
   "cell_type": "code",
   "execution_count": 39,
   "id": "5e7a4b3a",
   "metadata": {},
   "outputs": [
    {
     "name": "stdout",
     "output_type": "stream",
     "text": [
      "192.168.1.1\n"
     ]
    }
   ],
   "source": [
    "# Q13. Write a Python program to remove leading zeros from an IP address\n",
    "\n",
    "ip_address_with_zero = \"192.168.001.001\"\n",
    "new_ip = re.sub(r\"\\b0+\", '', ip_address_with_zero)\n",
    "print(new_ip)"
   ]
  },
  {
   "cell_type": "code",
   "execution_count": 40,
   "id": "e41c3c8b",
   "metadata": {},
   "outputs": [
    {
     "name": "stdout",
     "output_type": "stream",
     "text": [
      "['August 15th 1947']\n"
     ]
    }
   ],
   "source": [
    "# Q14. Write a regular expression in python to match a date string in the form of Month name followed by day number and year stored in a text file.\n",
    "#Sample text :  'On August 15th 1947 that India was declared independent from British colonialism, and the reins of control were handed over to the leaders of the Country’.\n",
    "\n",
    "\n",
    "sample_text = 'On August 15th 1947 that India was declared independent from British colonialism, and the reins of control were handed over to the leaders of the Country.'\n",
    "with open('sample_text.txt', 'w') as file:\n",
    "    file.write(sample_text)\n",
    "with open('sample_text.txt', 'r') as file:\n",
    "    words_from_file = file.read()\n",
    "date = re.findall(r'(\\w{3,9}\\s\\d{1,2}(?:[a-z]{1,2}\\s\\d{4}))\\b', words_from_file)\n",
    "for date_string in date:\n",
    "    print(date)"
   ]
  },
  {
   "cell_type": "code",
   "execution_count": 41,
   "id": "481330c5",
   "metadata": {},
   "outputs": [
    {
     "name": "stdout",
     "output_type": "stream",
     "text": [
      "fox\n",
      "dog\n"
     ]
    }
   ],
   "source": [
    "# Q15. Write a Python program to search some literals strings in a string. \n",
    "# Sample text : 'The quick brown fox jumps over the lazy dog.'\n",
    "\n",
    "sample_text = \"The quick brown fox jumps over the lazy dog.\"\n",
    "result_7 = re.finditer(r\"fox|dog\", sample_text)\n",
    "for match_object in result_7:\n",
    "    print(match_object.group())"
   ]
  },
  {
   "cell_type": "code",
   "execution_count": 42,
   "id": "82f88f68",
   "metadata": {},
   "outputs": [
    {
     "name": "stdout",
     "output_type": "stream",
     "text": [
      "fox\n"
     ]
    }
   ],
   "source": [
    "# Q16. Write a Python program to search a literals string in a string and also find the location within the original string where the pattern occurs\n",
    "# Sample text : 'The quick brown fox jumps over the lazy dog.'\n",
    "\n",
    "string_8 = \"The quick brown fox jumps over the lazy dog.\"\n",
    "result = re.search(r\"\\bfox\\b\", string_8)\n",
    "print(result.group())"
   ]
  },
  {
   "cell_type": "code",
   "execution_count": 43,
   "id": "005e7bdb",
   "metadata": {},
   "outputs": [
    {
     "name": "stdout",
     "output_type": "stream",
     "text": [
      "exercises\n"
     ]
    }
   ],
   "source": [
    "# Q17. Write a Python program to find the substrings within a string.\n",
    "# Sample text : 'Python exercises, PHP exercises, C# exercises'\n",
    "\n",
    "sample_text ='Python exercises, PHP exercises, C# exercises'\n",
    "result = re.search(r\"exercises\", sample_text)\n",
    "print(result.group())"
   ]
  },
  {
   "cell_type": "code",
   "execution_count": 44,
   "id": "ba66006e",
   "metadata": {},
   "outputs": [
    {
     "name": "stdout",
     "output_type": "stream",
     "text": [
      "Found 'catholic' at position 11-19\n",
      "Found 'catholic' at position 45-53\n",
      "Found 'catholic' at position 75-83\n",
      "Found 'catholic' at position 109-117\n"
     ]
    }
   ],
   "source": [
    "# Q18. Write a Python program to find the occurrence and position of the substrings within a string.\n",
    "\n",
    "sample_text = \"Nory was a catholic because her mother was a catholic and her mother was a catholic because her father was a catholic.\"\n",
    "pattern = re.finditer(r'catholic', sample_text)\n",
    "for match in pattern:\n",
    "    start_position = match.start()\n",
    "    end_position = match.end()\n",
    "    matched_word = match.group()\n",
    "    print(f\"Found '{matched_word}' at position {start_position}-{end_position}\")"
   ]
  },
  {
   "cell_type": "code",
   "execution_count": 45,
   "id": "c55ab7eb",
   "metadata": {},
   "outputs": [
    {
     "name": "stdout",
     "output_type": "stream",
     "text": [
      "Original date:  2023-12-30\n",
      "New date:  30-12-2023\n"
     ]
    }
   ],
   "source": [
    "# Q19. Write a Python program to convert a date of yyyy-mm-dd format to dd-mm-yyyy format.\n",
    "\n",
    "def convert_date_format(inp_date):\n",
    "    updated_date = re.sub(r'(\\d{4})-(\\d{1,2})-(\\d{1,2})', r'\\3-\\2-\\1', inp_date)\n",
    "    return updated_date\n",
    "inp_date = \"2023-12-30\"\n",
    "converted_date = convert_date_format(inp_date)\n",
    "\n",
    "print(\"Original date: \",inp_date)\n",
    "print(\"New date: \",convert_date_format(inp_date))"
   ]
  },
  {
   "cell_type": "code",
   "execution_count": 46,
   "id": "28267988",
   "metadata": {},
   "outputs": [
    {
     "name": "stdout",
     "output_type": "stream",
     "text": [
      "['01.12', '0132.', '2.', '145.8', '3.01', '27.25', '0.25']\n"
     ]
    }
   ],
   "source": [
    "# Q20. Create a function in python to find all decimal numbers with a precision of 1 or 2 in a string.The use of the re.compile() method is mandatory.\n",
    "# Sample Text:\"01.12 0132.123 2.31875 145.8 3.01 27.25 0.25\"\n",
    "\n",
    "sample_text = \"01.12 0132.123 2.31875 145.8 3.01 27.25 0.25\"\n",
    "pattern = re.compile(r\"\\b\\d+\\.\\d{1,2}\\b|\\.\\d{1,2}\\b|\\b\\d+\\.\\b\")\n",
    "resultant_output = pattern.findall(sample_text)\n",
    "print(resultant_output)"
   ]
  },
  {
   "cell_type": "code",
   "execution_count": 47,
   "id": "5e9ada90",
   "metadata": {},
   "outputs": [
    {
     "name": "stdout",
     "output_type": "stream",
     "text": [
      "Number: 1,Positioned at: 17\n",
      "Number: 2,Positioned at: 22\n",
      "Number: 3,Positioned at: 37\n"
     ]
    }
   ],
   "source": [
    "# Q21. Write a Python program to separate and print the numbers and their position of a given string.\n",
    "\n",
    "arget_string = \"123abc is an alphanumeric number.\"\n",
    "y = re.finditer(\"\\d+\", target_string)\n",
    "for number in y:\n",
    "    placed_at = number.start()\n",
    "    print(f\"Number: {number.group()},Positioned at: {placed_at}\")"
   ]
  },
  {
   "cell_type": "code",
   "execution_count": 48,
   "id": "7deeddcd",
   "metadata": {},
   "outputs": [
    {
     "name": "stdout",
     "output_type": "stream",
     "text": [
      "Maximum value: 950\n"
     ]
    }
   ],
   "source": [
    "# Q22. Write a regular expression in python program to extract maximum/largest numeric value from a string.\n",
    "# Sample Text: 'My marks in each semester are: 947, 896, 926, 524, 734, 950, 642'\n",
    "\n",
    "sample_text = 'My marks in each semester are: 947, 896, 926, 524, 734, 950, 642'\n",
    "num_val = [int(number) for number in re.findall(r\"\\b\\d+\\b\", sample_text)]\n",
    "Max_val = max(num_val)\n",
    "print(f'Maximum value: {Max_val}')"
   ]
  },
  {
   "cell_type": "code",
   "execution_count": 49,
   "id": "09c69d6d",
   "metadata": {},
   "outputs": [
    {
     "name": "stdout",
     "output_type": "stream",
     "text": [
      "Regular Expression Is An Important Topic In Python\n"
     ]
    }
   ],
   "source": [
    "# Q23. Create a function in python to insert spaces between words starting with capital letters.\n",
    "# Sample Text: “RegularExpressionIsAnImportantTopicInPython\"\n",
    "\n",
    "sample_text = \"RegularExpressionIsAnImportantTopicInPython\"\n",
    "resultant_string = re.sub(r\"([a-z])([A-Z])\", r\"\\1 \\2\", sample_text)\n",
    "print(resultant_string)"
   ]
  },
  {
   "cell_type": "code",
   "execution_count": 50,
   "id": "6fdf94cd",
   "metadata": {},
   "outputs": [
    {
     "name": "stdout",
     "output_type": "stream",
     "text": [
      "['Tableau', 'Powerbi', 'Business', 'Intelligence']\n"
     ]
    }
   ],
   "source": [
    "# Q24. Python regex to find sequences of one upper case letter followed by lower case letters\n",
    "\n",
    "sample_text = \"Tableau and Powerbi are two powerful tools for Business Intelligence and data visualisation.\"\n",
    "pattern_text = re.findall(r'[A-Z][a-z]+', sample_text)\n",
    "print(pattern_text)"
   ]
  },
  {
   "cell_type": "code",
   "execution_count": 51,
   "id": "d9a415c6",
   "metadata": {},
   "outputs": [
    {
     "name": "stdout",
     "output_type": "stream",
     "text": [
      "Hello hello world\n"
     ]
    }
   ],
   "source": [
    "# Q25. Write a Python program to remove continuous duplicate words from Sentence using Regular Expression.\n",
    "\n",
    "sample_text = \"Hello hello world world\"\n",
    "resultant_pattern = re.sub(r'\\b(\\w+)(\\s+\\1)+\\b', r'\\1', sample_text)\n",
    "print(resultant_pattern)"
   ]
  },
  {
   "cell_type": "code",
   "execution_count": 52,
   "id": "1d250533",
   "metadata": {},
   "outputs": [
    {
     "name": "stdout",
     "output_type": "stream",
     "text": [
      "The string is ending with alphanumeric character\n"
     ]
    }
   ],
   "source": [
    "# Q26. Write a python program using RegEx to accept string ending with alphanumeric character.\n",
    "\n",
    "target_string = \"An alphanumeric character is Datascience123\"\n",
    "result = re.search (r\"\\w+$\", target_string)\n",
    "if result:\n",
    "    print(\"The string is ending with alphanumeric character\")\n",
    "else:\n",
    "    print(\"Invalid string\")"
   ]
  },
  {
   "cell_type": "code",
   "execution_count": 53,
   "id": "d360b74c",
   "metadata": {},
   "outputs": [
    {
     "name": "stdout",
     "output_type": "stream",
     "text": [
      "['#Doltiwal', '#xyzabc', '#Demonetization']\n"
     ]
    }
   ],
   "source": [
    "# Q27. Write a python program using RegEx to extract the hashtags.\n",
    "# Sample Text: \"\"\"RT @kapil_kausik: #Doltiwal I mean #xyzabc is \"hurt\" by #Demonetization as the same has rendered USELESS <ed><U+00A0><U+00BD><ed><U+00B1><U+0089> \"acquired funds\" No wo\"\"\"\n",
    "\n",
    "sample_text = \"\"\"RT @kapil_kausik: #Doltiwal I mean #xyzabc is \"hurt\" by #Demonetization as the same has rendered USELESS <ed><U+00A0><U+00BD><ed><U+00B1><U+0089> \"acquired funds\" No wo\"\"\"\n",
    "result = re.findall(r\"#\\w+\", sample_text)\n",
    "print(result)"
   ]
  },
  {
   "cell_type": "code",
   "execution_count": 54,
   "id": "4c8348ba",
   "metadata": {},
   "outputs": [
    {
     "name": "stdout",
     "output_type": "stream",
     "text": [
      "@Jags123456 Bharat band on 28??<ed><ed>Those who  are protesting #demonetization  are all different party leaders\n"
     ]
    }
   ],
   "source": [
    "# Q28. Write a python program using RegEx to remove <U+..> like symbols\n",
    "#Check the below sample text, there are strange symbols something of the sort <U+..> all over the place. You need to come up with a general Regex expression that will cover all such symbols.\n",
    "#Sample Text: \"@Jags123456 Bharat band on 28??<ed><U+00A0><U+00BD><ed><U+00B8><U+0082>Those who  are protesting #demonetization  are all different party leaders\"\n",
    "\n",
    "sample_text = \"@Jags123456 Bharat band on 28??<ed><U+00A0><U+00BD><ed><U+00B8><U+0082>Those who  are protesting #demonetization  are all different party leaders\"\n",
    "result_text = re.sub(r'<U\\+[0-9A-Za-z]+>', '', sample_text)\n",
    "print(result_text)"
   ]
  },
  {
   "cell_type": "code",
   "execution_count": 55,
   "id": "0d13ab3f",
   "metadata": {},
   "outputs": [
    {
     "name": "stdout",
     "output_type": "stream",
     "text": [
      "Expected Dates:\n",
      "12-09-1992\n",
      "15-12-1999\n"
     ]
    }
   ],
   "source": [
    "# Q29. Write a python program to extract dates from the text stored in the text file.\n",
    "#Sample Text:Ron was born on 12-09-1992 and he was admitted to school 15-12-1999.\n",
    "\n",
    "sample_text = \"Ron was born on 12-09-1992 and he was admitted to school 15-12-1999.\"\n",
    "with open('sample_text.txt', 'w') as file:\n",
    "    file.write(sample_text)\n",
    "with open('sample_text.txt', 'r') as file:\n",
    "    data_from_file = file.read()\n",
    "date_pat = re.compile(r'\\b\\d{2}-\\d{2}-\\d{4}\\b')\n",
    "output_dates = date_pat.findall(data_from_file)\n",
    "print(\"Expected Dates:\")\n",
    "for date in output_dates:\n",
    "    print(date)"
   ]
  },
  {
   "cell_type": "code",
   "execution_count": 56,
   "id": "1b3e720a",
   "metadata": {},
   "outputs": [
    {
     "name": "stdout",
     "output_type": "stream",
     "text": [
      " following example creates  ArrayList  a capacity   elements. 4 elements   added   ArrayList   ArrayList  trimmed accordingly.\n"
     ]
    }
   ],
   "source": [
    "# Q30. Create a function inpython to remove all words from a string of length between 2 and 4.\n",
    "#The use of the re.compile() method is mandatory.\n",
    "\n",
    "sample_text = \"The following example creates an ArrayList with a capacity of 50 elements. 4 elements are then added to the ArrayList and the ArrayList is trimmed accordingly.\"\n",
    "text_pattern = re.compile(r'\\b\\w{2,4}\\b')\n",
    "result_output = text_pattern.sub('', sample_text)\n",
    "print(result_output)\n"
   ]
  },
  {
   "cell_type": "code",
   "execution_count": null,
   "id": "2a565441",
   "metadata": {},
   "outputs": [],
   "source": []
  }
 ],
 "metadata": {
  "kernelspec": {
   "display_name": "Python 3 (ipykernel)",
   "language": "python",
   "name": "python3"
  },
  "language_info": {
   "codemirror_mode": {
    "name": "ipython",
    "version": 3
   },
   "file_extension": ".py",
   "mimetype": "text/x-python",
   "name": "python",
   "nbconvert_exporter": "python",
   "pygments_lexer": "ipython3",
   "version": "3.11.4"
  }
 },
 "nbformat": 4,
 "nbformat_minor": 5
}
