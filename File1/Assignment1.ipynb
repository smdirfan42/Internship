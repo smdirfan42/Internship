{
 "cells": [
  {
   "cell_type": "code",
   "execution_count": 1,
   "id": "3b9d6727",
   "metadata": {},
   "outputs": [
    {
     "name": "stdout",
     "output_type": "stream",
     "text": [
      "15\n"
     ]
    }
   ],
   "source": [
    "def func(a, b):\n",
    " return b if a == 0 else func(b % a, a)\n",
    "print(func(30, 75))"
   ]
  },
  {
   "cell_type": "code",
   "execution_count": 4,
   "id": "b2e9b2ce",
   "metadata": {},
   "outputs": [
    {
     "name": "stdout",
     "output_type": "stream",
     "text": [
      "<class 'filter'>\n"
     ]
    }
   ],
   "source": [
    "numbers = (4, 7, 19, 2, 89, 45, 72, 22)\n",
    "sorted_numbers = sorted(numbers)\n",
    "even = lambda a: a % 2 == 0\n",
    "even_numbers = filter(even, sorted_numbers)\n",
    "print(type(even_numbers))"
   ]
  },
  {
   "cell_type": "code",
   "execution_count": 12,
   "id": "4c3debc8",
   "metadata": {},
   "outputs": [
    {
     "ename": "TypeError",
     "evalue": "unsupported operand type(s) for +: 'set' and 'set'",
     "output_type": "error",
     "traceback": [
      "\u001b[1;31m---------------------------------------------------------------------------\u001b[0m",
      "\u001b[1;31mTypeError\u001b[0m                                 Traceback (most recent call last)",
      "Cell \u001b[1;32mIn[12], line 4\u001b[0m\n\u001b[0;32m      2\u001b[0m set2 \u001b[38;5;241m=\u001b[39m {\u001b[38;5;241m82\u001b[39m, \u001b[38;5;241m49\u001b[39m, \u001b[38;5;241m62\u001b[39m}\n\u001b[0;32m      3\u001b[0m set3 \u001b[38;5;241m=\u001b[39m {\u001b[38;5;241m99\u001b[39m, \u001b[38;5;241m22\u001b[39m, \u001b[38;5;241m17\u001b[39m}\n\u001b[1;32m----> 4\u001b[0m \u001b[38;5;28mprint\u001b[39m(\u001b[38;5;28mlen\u001b[39m(set1 \u001b[38;5;241m+\u001b[39m set2 \u001b[38;5;241m+\u001b[39m set3))\n",
      "\u001b[1;31mTypeError\u001b[0m: unsupported operand type(s) for +: 'set' and 'set'"
     ]
    }
   ],
   "source": [
    "set1 = {14, 3, 55}\n",
    "set2 = {82, 49, 62}\n",
    "set3 = {99, 22, 17}\n",
    "print(len(set1 + set2 + set3))"
   ]
  },
  {
   "cell_type": "code",
   "execution_count": 13,
   "id": "8ee1efb2",
   "metadata": {},
   "outputs": [
    {
     "name": "stdout",
     "output_type": "stream",
     "text": [
      "208\n"
     ]
    }
   ],
   "source": [
    "print(4**3 + (7 + 5)**(1 + 1))"
   ]
  },
  {
   "cell_type": "code",
   "execution_count": 64,
   "id": "7235f880",
   "metadata": {},
   "outputs": [
    {
     "name": "stdout",
     "output_type": "stream",
     "text": [
      "Enterprise Picard\n",
      "Voyager Janeway\n",
      "Defiant Sisko\n"
     ]
    }
   ],
   "source": [
    "captains = {\n",
    "    \"Enterprise\": \"Picard\",\n",
    "    \"Voyager\": \"Janeway\",\n",
    "    \"Defiant\": \"Sisko\",\n",
    "}   \n",
    "for ship, captain in captains.items():\n",
    " print(ship, captain)"
   ]
  },
  {
   "cell_type": "code",
   "execution_count": 67,
   "id": "817df2e5",
   "metadata": {},
   "outputs": [
    {
     "name": "stdout",
     "output_type": "stream",
     "text": [
      "Enterprise Picard\n",
      "Voyager Janeway\n",
      "Defiant Sisko\n"
     ]
    }
   ],
   "source": [
    "captains = {\n",
    "    \"Enterprise\": \"Picard\",\n",
    "    \"Voyager\": \"Janeway\",\n",
    "    \"Defiant\": \"Sisko\",\n",
    "}\n",
    "for ship in captains:\n",
    " print(ship, captains[ship])"
   ]
  },
  {
   "cell_type": "code",
   "execution_count": 75,
   "id": "12e9d6ec",
   "metadata": {},
   "outputs": [
    {
     "name": "stdout",
     "output_type": "stream",
     "text": [
      "The Enterprise is captained by Picard.\n",
      "The Voyager is captained by Janeway.\n",
      "The Defiant is captained by Sisko.\n",
      "The Discovery is captained by unknown.\n"
     ]
    }
   ],
   "source": [
    "captains = {\n",
    " \"Enterprise\": \"Picard\",\n",
    " \"Voyager\": \"Janeway\",\n",
    " \"Defiant\": \"Sisko\",\n",
    " \"Discovery\": \"unknown\",\n",
    "}\n",
    "for ship, captain in captains.items():\n",
    " print(f\"The {ship} is captained by {captain}.\")"
   ]
  }
 ],
 "metadata": {
  "kernelspec": {
   "display_name": "Python 3 (ipykernel)",
   "language": "python",
   "name": "python3"
  },
  "language_info": {
   "codemirror_mode": {
    "name": "ipython",
    "version": 3
   },
   "file_extension": ".py",
   "mimetype": "text/x-python",
   "name": "python",
   "nbconvert_exporter": "python",
   "pygments_lexer": "ipython3",
   "version": "3.11.4"
  }
 },
 "nbformat": 4,
 "nbformat_minor": 5
}
